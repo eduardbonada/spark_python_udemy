{
 "cells": [
  {
   "cell_type": "markdown",
   "metadata": {},
   "source": [
    "# Linear Regression Consulting Project"
   ]
  },
  {
   "cell_type": "markdown",
   "metadata": {
    "collapsed": true
   },
   "source": [
    "Congratulations! You've been contracted by Hyundai Heavy Industries to help them build a predictive model for some ships. [Hyundai Heavy Industries](http://www.hyundai.eu/en) is one of the world's largest ship manufacturing companies and builds cruise liners.\n",
    "\n",
    "You've been flown to their headquarters in Ulsan, South Korea to help them give accurate estimates of how many crew members a ship will require.\n",
    "\n",
    "They are currently building new ships for some customers and want you to create a model and use it to predict how many crew members the ships will need.\n",
    "\n",
    "Here is what the data looks like so far:\n",
    "\n",
    "    Description: Measurements of ship size, capacity, crew, and age for 158 cruise\n",
    "    ships.\n",
    "\n",
    "\n",
    "    Variables/Columns\n",
    "    Ship Name     1-20\n",
    "    Cruise Line   21-40\n",
    "    Age (as of 2013)   46-48\n",
    "    Tonnage (1000s of tons)   50-56\n",
    "    passengers (100s)   58-64\n",
    "    Length (100s of feet)  66-72\n",
    "    Cabins  (100s)   74-80\n",
    "    Passenger Density   82-88\n",
    "    Crew  (100s)   90-96\n",
    "    \n",
    "It is saved in a csv file for you called \"cruise_ship_info.csv\". Your job is to create a regression model that will help predict how many crew members will be needed for future ships. The client also mentioned that they have found that particular cruise lines will differ in acceptable crew counts, so it is most likely an important feature to include in your analysis! \n",
    "\n",
    "Once you've created the model and tested it for a quick check on how well you can expect it to perform, make sure you take a look at why it performs so well!"
   ]
  },
  {
   "cell_type": "markdown",
   "metadata": {},
   "source": [
    "## Load Spark and Data"
   ]
  },
  {
   "cell_type": "code",
   "execution_count": 75,
   "metadata": {},
   "outputs": [],
   "source": [
    "# start spark session\n",
    "from pyspark.sql import SparkSession\n",
    "spark = SparkSession.builder.appName('lr_project').getOrCreate()"
   ]
  },
  {
   "cell_type": "code",
   "execution_count": 76,
   "metadata": {},
   "outputs": [],
   "source": [
    "# read in the input csv file.\n",
    "data = spark.read.csv('cruise_ship_info.csv', inferSchema=True, header=True)"
   ]
  },
  {
   "cell_type": "code",
   "execution_count": 77,
   "metadata": {},
   "outputs": [
    {
     "name": "stdout",
     "output_type": "stream",
     "text": [
      "root\n",
      " |-- Ship_name: string (nullable = true)\n",
      " |-- Cruise_line: string (nullable = true)\n",
      " |-- Age: integer (nullable = true)\n",
      " |-- Tonnage: double (nullable = true)\n",
      " |-- passengers: double (nullable = true)\n",
      " |-- length: double (nullable = true)\n",
      " |-- cabins: double (nullable = true)\n",
      " |-- passenger_density: double (nullable = true)\n",
      " |-- crew: double (nullable = true)\n",
      "\n"
     ]
    }
   ],
   "source": [
    "data.printSchema()"
   ]
  },
  {
   "cell_type": "code",
   "execution_count": 78,
   "metadata": {},
   "outputs": [
    {
     "name": "stdout",
     "output_type": "stream",
     "text": [
      "Journey\n",
      "Azamara\n",
      "6\n",
      "30.276999999999997\n",
      "6.94\n",
      "5.94\n",
      "3.55\n",
      "42.64\n",
      "3.55\n"
     ]
    }
   ],
   "source": [
    "for r in data.head(1)[0]:\n",
    "    print(r)"
   ]
  },
  {
   "cell_type": "markdown",
   "metadata": {},
   "source": [
    "## Clear and format data"
   ]
  },
  {
   "cell_type": "code",
   "execution_count": 79,
   "metadata": {},
   "outputs": [],
   "source": []
  },
  {
   "cell_type": "code",
   "execution_count": 95,
   "metadata": {},
   "outputs": [
    {
     "name": "stdout",
     "output_type": "stream",
     "text": [
      "+--------+---+-------+----------+------+------+-----------------+----+\n",
      "|    line|age|tonnage|passengers|length|cabins|passenger_density|crew|\n",
      "+--------+---+-------+----------+------+------+-----------------+----+\n",
      "| Azamara|  6|  30276|       694|   594|   355|            42.64| 355|\n",
      "| Azamara|  6|  30276|       694|   594|   355|            42.64| 355|\n",
      "|Carnival| 26|  47262|      1486|   722|   743|             31.8| 670|\n",
      "|Carnival| 11| 110000|      2974|   952|  1488|            36.99|1910|\n",
      "|Carnival| 17| 101353|      2642|   892|  1321|            38.36|1000|\n",
      "|Carnival| 22|  70367|      2052|   855|  1019|            34.29| 919|\n",
      "|Carnival| 15|  70367|      2052|   855|  1019|            34.29| 919|\n",
      "|Carnival| 23|  70367|      2056|   855|  1022|            34.23| 919|\n",
      "|Carnival| 19|  70367|      2052|   855|  1019|            34.29| 919|\n",
      "|Carnival|  6| 110238|      3700|   951|  1487|            29.79|1150|\n",
      "|Carnival| 10| 110000|      2974|   951|  1487|            36.99|1160|\n",
      "|Carnival| 28|  46052|      1452|   727|   726|            31.72| 660|\n",
      "|Carnival| 18|  70367|      2052|   855|  1019|            34.29| 919|\n",
      "|Carnival| 17|  70367|      2052|   855|  1019|            34.29| 919|\n",
      "|Carnival| 11|  86000|      2124|   963|  1062|            40.49| 930|\n",
      "|Carnival|  8| 110000|      2974|   951|  1487|            36.99|1160|\n",
      "|Carnival|  9|  88500|      2124|   963|  1062|            41.67|1030|\n",
      "|Carnival| 15|  70367|      2052|   855|  1019|            34.29| 919|\n",
      "|Carnival| 12|  88500|      2124|   963|  1162|            41.67| 930|\n",
      "|Carnival| 20|  70367|      2052|   855|  1019|            34.29| 919|\n",
      "+--------+---+-------+----------+------+------+-----------------+----+\n",
      "only showing top 20 rows\n",
      "\n"
     ]
    }
   ],
   "source": [
    "# format the columns\n",
    "cleaned_data = data.select([\n",
    "    data['Cruise_line'].alias('line'),\n",
    "    data['Age'].alias('age'),\n",
    "    (data['Tonnage']*1000).cast('integer').alias('tonnage'),\n",
    "    (data['passengers']*100).cast('integer').alias('passengers'),\n",
    "    (data['length']*100).cast('integer').alias('length'),\n",
    "    (data['cabins']*100).cast('integer').alias('cabins'),\n",
    "    data['passenger_density'],\n",
    "    (data['crew']*100).cast('integer').alias('crew')\n",
    "])\n",
    "cleaned_data.show()"
   ]
  },
  {
   "cell_type": "code",
   "execution_count": 96,
   "metadata": {},
   "outputs": [
    {
     "name": "stdout",
     "output_type": "stream",
     "text": [
      "root\n",
      " |-- line: string (nullable = true)\n",
      " |-- age: integer (nullable = true)\n",
      " |-- tonnage: integer (nullable = true)\n",
      " |-- passengers: integer (nullable = true)\n",
      " |-- length: integer (nullable = true)\n",
      " |-- cabins: integer (nullable = true)\n",
      " |-- passenger_density: double (nullable = true)\n",
      " |-- crew: integer (nullable = true)\n",
      "\n"
     ]
    }
   ],
   "source": [
    "cleaned_data.printSchema()"
   ]
  },
  {
   "cell_type": "code",
   "execution_count": 97,
   "metadata": {},
   "outputs": [
    {
     "name": "stdout",
     "output_type": "stream",
     "text": [
      "+----+---+-------+----------+------+------+-----------------+----+\n",
      "|line|age|tonnage|passengers|length|cabins|passenger_density|crew|\n",
      "+----+---+-------+----------+------+------+-----------------+----+\n",
      "|   0|  0|      0|         0|     0|     0|                0|   0|\n",
      "+----+---+-------+----------+------+------+-----------------+----+\n",
      "\n"
     ]
    }
   ],
   "source": [
    "# list number of NANs or NULLs in each column\n",
    "from pyspark.sql.functions import count, when, isnan, col\n",
    "cleaned_data.select([count(when(isnan(c) | col(c).isNull(), c)).alias(c) for c in cleaned_data.columns]).show()"
   ]
  },
  {
   "cell_type": "markdown",
   "metadata": {},
   "source": [
    "Nothing to clean, no nulls. Data looks good."
   ]
  },
  {
   "cell_type": "markdown",
   "metadata": {},
   "source": [
    "## Prepare data for MLlib"
   ]
  },
  {
   "cell_type": "code",
   "execution_count": 98,
   "metadata": {},
   "outputs": [
    {
     "name": "stdout",
     "output_type": "stream",
     "text": [
      "+----+---+-------+----------+------+------+-----------------+\n",
      "|line|age|tonnage|passengers|length|cabins|passenger_density|\n",
      "+----+---+-------+----------+------+------+-----------------+\n",
      "|16.0|  6|  30276|       694|   594|   355|            42.64|\n",
      "|16.0|  6|  30276|       694|   594|   355|            42.64|\n",
      "| 1.0| 26|  47262|      1486|   722|   743|             31.8|\n",
      "| 1.0| 11| 110000|      2974|   952|  1488|            36.99|\n",
      "| 1.0| 17| 101353|      2642|   892|  1321|            38.36|\n",
      "| 1.0| 22|  70367|      2052|   855|  1019|            34.29|\n",
      "| 1.0| 15|  70367|      2052|   855|  1019|            34.29|\n",
      "| 1.0| 23|  70367|      2056|   855|  1022|            34.23|\n",
      "| 1.0| 19|  70367|      2052|   855|  1019|            34.29|\n",
      "| 1.0|  6| 110238|      3700|   951|  1487|            29.79|\n",
      "| 1.0| 10| 110000|      2974|   951|  1487|            36.99|\n",
      "| 1.0| 28|  46052|      1452|   727|   726|            31.72|\n",
      "| 1.0| 18|  70367|      2052|   855|  1019|            34.29|\n",
      "| 1.0| 17|  70367|      2052|   855|  1019|            34.29|\n",
      "| 1.0| 11|  86000|      2124|   963|  1062|            40.49|\n",
      "| 1.0|  8| 110000|      2974|   951|  1487|            36.99|\n",
      "| 1.0|  9|  88500|      2124|   963|  1062|            41.67|\n",
      "| 1.0| 15|  70367|      2052|   855|  1019|            34.29|\n",
      "| 1.0| 12|  88500|      2124|   963|  1162|            41.67|\n",
      "| 1.0| 20|  70367|      2052|   855|  1019|            34.29|\n",
      "+----+---+-------+----------+------+------+-----------------+\n",
      "only showing top 20 rows\n",
      "\n"
     ]
    }
   ],
   "source": [
    "# convert line string to int \n",
    "from pyspark.ml.feature import StringIndexer\n",
    "string_indexer = StringIndexer(inputCol=\"line\", outputCol=\"line_index\")\n",
    "prepared_data = indexer.fit(cleaned_data).transform(cleaned_data)\n",
    "prepared_data = prepared_data.select([prepared_data['line_index'].alias('line'),'age','tonnage','passengers','length','cabins','passenger_density'])\n",
    "prepared_data.show()"
   ]
  },
  {
   "cell_type": "code",
   "execution_count": 99,
   "metadata": {},
   "outputs": [],
   "source": [
    "# import helpers\n",
    "from pyspark.ml.linalg import Vectors\n",
    "from pyspark.ml.feature import VectorAssembler"
   ]
  },
  {
   "cell_type": "code",
   "execution_count": 100,
   "metadata": {},
   "outputs": [
    {
     "name": "stdout",
     "output_type": "stream",
     "text": [
      "root\n",
      " |-- line: double (nullable = true)\n",
      " |-- age: integer (nullable = true)\n",
      " |-- tonnage: integer (nullable = true)\n",
      " |-- passengers: integer (nullable = true)\n",
      " |-- length: integer (nullable = true)\n",
      " |-- cabins: integer (nullable = true)\n",
      " |-- passenger_density: double (nullable = true)\n",
      "\n"
     ]
    }
   ],
   "source": [
    "prepared_data.printSchema()"
   ]
  },
  {
   "cell_type": "code",
   "execution_count": 102,
   "metadata": {},
   "outputs": [
    {
     "name": "stdout",
     "output_type": "stream",
     "text": [
      "+----+---+-------+----------+------+------+-----------------+--------------------+\n",
      "|line|age|tonnage|passengers|length|cabins|passenger_density|            features|\n",
      "+----+---+-------+----------+------+------+-----------------+--------------------+\n",
      "|16.0|  6|  30276|       694|   594|   355|            42.64|[16.0,6.0,30276.0...|\n",
      "|16.0|  6|  30276|       694|   594|   355|            42.64|[16.0,6.0,30276.0...|\n",
      "| 1.0| 26|  47262|      1486|   722|   743|             31.8|[1.0,26.0,47262.0...|\n",
      "| 1.0| 11| 110000|      2974|   952|  1488|            36.99|[1.0,11.0,110000....|\n",
      "| 1.0| 17| 101353|      2642|   892|  1321|            38.36|[1.0,17.0,101353....|\n",
      "| 1.0| 22|  70367|      2052|   855|  1019|            34.29|[1.0,22.0,70367.0...|\n",
      "| 1.0| 15|  70367|      2052|   855|  1019|            34.29|[1.0,15.0,70367.0...|\n",
      "| 1.0| 23|  70367|      2056|   855|  1022|            34.23|[1.0,23.0,70367.0...|\n",
      "| 1.0| 19|  70367|      2052|   855|  1019|            34.29|[1.0,19.0,70367.0...|\n",
      "| 1.0|  6| 110238|      3700|   951|  1487|            29.79|[1.0,6.0,110238.0...|\n",
      "| 1.0| 10| 110000|      2974|   951|  1487|            36.99|[1.0,10.0,110000....|\n",
      "| 1.0| 28|  46052|      1452|   727|   726|            31.72|[1.0,28.0,46052.0...|\n",
      "| 1.0| 18|  70367|      2052|   855|  1019|            34.29|[1.0,18.0,70367.0...|\n",
      "| 1.0| 17|  70367|      2052|   855|  1019|            34.29|[1.0,17.0,70367.0...|\n",
      "| 1.0| 11|  86000|      2124|   963|  1062|            40.49|[1.0,11.0,86000.0...|\n",
      "| 1.0|  8| 110000|      2974|   951|  1487|            36.99|[1.0,8.0,110000.0...|\n",
      "| 1.0|  9|  88500|      2124|   963|  1062|            41.67|[1.0,9.0,88500.0,...|\n",
      "| 1.0| 15|  70367|      2052|   855|  1019|            34.29|[1.0,15.0,70367.0...|\n",
      "| 1.0| 12|  88500|      2124|   963|  1162|            41.67|[1.0,12.0,88500.0...|\n",
      "| 1.0| 20|  70367|      2052|   855|  1019|            34.29|[1.0,20.0,70367.0...|\n",
      "+----+---+-------+----------+------+------+-----------------+--------------------+\n",
      "only showing top 20 rows\n",
      "\n"
     ]
    }
   ],
   "source": [
    "# create and configure the vector assembler with the desired 'features' columns\n",
    "assembler = VectorAssembler(\n",
    "    inputCols=['line','age','tonnage','passengers','length','cabins','passenger_density'],\n",
    "    outputCol='features')\n",
    "\n",
    "# assemble the 'features'\n",
    "output = assembler.transform(prepared_data)\n",
    "output..show()"
   ]
  },
  {
   "cell_type": "code",
   "execution_count": null,
   "metadata": {},
   "outputs": [],
   "source": []
  }
 ],
 "metadata": {
  "anaconda-cloud": {},
  "kernelspec": {
   "display_name": "Python 3",
   "language": "python",
   "name": "python3"
  },
  "language_info": {
   "codemirror_mode": {
    "name": "ipython",
    "version": 3
   },
   "file_extension": ".py",
   "mimetype": "text/x-python",
   "name": "python",
   "nbconvert_exporter": "python",
   "pygments_lexer": "ipython3",
   "version": "3.5.2"
  }
 },
 "nbformat": 4,
 "nbformat_minor": 1
}
