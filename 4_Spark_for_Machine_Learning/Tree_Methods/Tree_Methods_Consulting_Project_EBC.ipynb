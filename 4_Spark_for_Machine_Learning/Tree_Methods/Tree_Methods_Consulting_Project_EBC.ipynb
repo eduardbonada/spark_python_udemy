{
 "cells": [
  {
   "cell_type": "markdown",
   "metadata": {},
   "source": [
    "# Tree Methods Consulting Project "
   ]
  },
  {
   "cell_type": "markdown",
   "metadata": {},
   "source": [
    "You've been hired by a dog food company to try to predict why some batches of their dog food are spoiling much quicker than intended! Unfortunately this Dog Food company hasn't upgraded to the latest machinery, meaning that the amounts of the five preservative chemicals they are using can vary a lot, but which is the chemical that has the strongest effect? The dog food company first mixes up a batch of preservative that contains 4 different preservative chemicals (A,B,C,D) and then is completed with a \"filler\" chemical. The food scientists beelive one of the A,B,C, or D preservatives is causing the problem, but need your help to figure out which one!\n",
    "Use Machine Learning with RF to find out which parameter had the most predicitive power, thus finding out which chemical causes the early spoiling! So create a model and then find out how you can decide which chemical is the problem!\n",
    "\n",
    "* Pres_A : Percentage of preservative A in the mix\n",
    "* Pres_B : Percentage of preservative B in the mix\n",
    "* Pres_C : Percentage of preservative C in the mix\n",
    "* Pres_D : Percentage of preservative D in the mix\n",
    "* Spoiled: Label indicating whether or not the dog food batch was spoiled.\n",
    "___\n",
    "\n",
    "**Think carefully about what this problem is really asking you to solve. While we will use Machine Learning to solve this, it won't be with your typical train/test split workflow. If this confuses you, skip ahead to the solution code along walk-through!**\n",
    "____"
   ]
  },
  {
   "cell_type": "markdown",
   "metadata": {},
   "source": [
    "In order to find which preservative has the strongest effect, we will use the entire set of data to model a classification algorithm (Decision Tree or Random Forest), and look at the 'coefficients' for each features (that is, for each preservative)"
   ]
  },
  {
   "cell_type": "markdown",
   "metadata": {},
   "source": [
    "### Load Spark and Data"
   ]
  },
  {
   "cell_type": "code",
   "execution_count": 2,
   "metadata": {},
   "outputs": [],
   "source": [
    "from pyspark.sql import SparkSession\n",
    "spark = SparkSession.builder.appName('treeproject').getOrCreate()"
   ]
  },
  {
   "cell_type": "code",
   "execution_count": 34,
   "metadata": {},
   "outputs": [
    {
     "name": "stdout",
     "output_type": "stream",
     "text": [
      "+---+---+---+---+-------+\n",
      "|  A|  B|  C|  D|Spoiled|\n",
      "+---+---+---+---+-------+\n",
      "|  4|  2| 12|  3|      1|\n",
      "|  5|  6| 12|  7|      1|\n",
      "|  6|  2| 13|  6|      1|\n",
      "|  4|  2| 12|  1|      1|\n",
      "|  4|  2| 12|  3|      1|\n",
      "+---+---+---+---+-------+\n",
      "only showing top 5 rows\n",
      "\n"
     ]
    }
   ],
   "source": [
    "from pyspark.sql.functions import format_number\n",
    "\n",
    "read_data = spark.read.csv('dog_food.csv',inferSchema=True, header=True)\n",
    "\n",
    "data = read_data.select([\n",
    "    read_data['A'].cast('integer'),\n",
    "    read_data['B'].cast('integer'),\n",
    "    read_data['C'].cast('integer'),\n",
    "    read_data['D'].cast('integer'),\n",
    "    read_data['Spoiled'].cast('integer')\n",
    "])\n",
    "\n",
    "data.show(5)"
   ]
  },
  {
   "cell_type": "markdown",
   "metadata": {},
   "source": [
    "### Clean data"
   ]
  },
  {
   "cell_type": "code",
   "execution_count": 35,
   "metadata": {},
   "outputs": [
    {
     "name": "stdout",
     "output_type": "stream",
     "text": [
      "+---+---+---+---+-------+\n",
      "|  A|  B|  C|  D|Spoiled|\n",
      "+---+---+---+---+-------+\n",
      "|  0|  0|  0|  0|      0|\n",
      "+---+---+---+---+-------+\n",
      "\n"
     ]
    }
   ],
   "source": [
    "# list number of NANs or NULLs in each column\n",
    "from pyspark.sql.functions import count, when, isnan, col\n",
    "data.select([count(when(isnan(c) | col(c).isNull(), c)).alias(c) for c in data.columns]).show()"
   ]
  },
  {
   "cell_type": "code",
   "execution_count": 36,
   "metadata": {},
   "outputs": [],
   "source": [
    "# nothing to drop\n",
    "cleaned_data = data"
   ]
  },
  {
   "cell_type": "code",
   "execution_count": 37,
   "metadata": {},
   "outputs": [
    {
     "name": "stdout",
     "output_type": "stream",
     "text": [
      "+-------+------+------+------+------+-------+\n",
      "|summary|     A|     B|     C|     D|Spoiled|\n",
      "+-------+------+------+------+------+-------+\n",
      "|  count|490.00|490.00|490.00|490.00| 490.00|\n",
      "|   mean|  5.53|  5.50|  9.13|  5.58|   0.29|\n",
      "| stddev|  2.95|  2.85|  2.06|  2.85|   0.45|\n",
      "|    min|  1.00|  1.00|  5.00|  1.00|   0.00|\n",
      "|    max| 10.00| 10.00| 14.00| 10.00|   1.00|\n",
      "+-------+------+------+------+------+-------+\n",
      "\n"
     ]
    }
   ],
   "source": [
    "# check stats of each column with a pretty printed describe()\n",
    "\n",
    "from pyspark.sql.functions import format_number\n",
    "\n",
    "cdd = cleaned_data.describe()\n",
    "cdd.select([cdd['summary'],\n",
    "            format_number(cdd['A'].cast('double'), 2).alias('A'),\n",
    "            format_number(cdd['B'].cast('double'), 2).alias('B'),\n",
    "            format_number(cdd['C'].cast('double'), 2).alias('C'),\n",
    "            format_number(cdd['D'].cast('double'), 2).alias('D'),\n",
    "            format_number(cdd['Spoiled'].cast('double'), 2).alias('Spoiled'),\n",
    "           ]).show()"
   ]
  },
  {
   "cell_type": "markdown",
   "metadata": {},
   "source": [
    "### Format Data for Spark"
   ]
  },
  {
   "cell_type": "code",
   "execution_count": 38,
   "metadata": {},
   "outputs": [],
   "source": [
    "from pyspark.ml.linalg import Vectors\n",
    "from pyspark.ml.feature import VectorAssembler"
   ]
  },
  {
   "cell_type": "code",
   "execution_count": 44,
   "metadata": {},
   "outputs": [],
   "source": [
    "assembler = VectorAssembler(\n",
    "    inputCols=['A','B','C','D'],\n",
    "    outputCol=\"features\")\n",
    "\n",
    "prepared_data = assembler.transform(data).select(['features', 'Spoiled'])"
   ]
  },
  {
   "cell_type": "code",
   "execution_count": 45,
   "metadata": {},
   "outputs": [
    {
     "name": "stdout",
     "output_type": "stream",
     "text": [
      "+------------------+-------+\n",
      "|          features|Spoiled|\n",
      "+------------------+-------+\n",
      "|[4.0,2.0,12.0,3.0]|      1|\n",
      "|[5.0,6.0,12.0,7.0]|      1|\n",
      "|[6.0,2.0,13.0,6.0]|      1|\n",
      "|[4.0,2.0,12.0,1.0]|      1|\n",
      "|[4.0,2.0,12.0,3.0]|      1|\n",
      "+------------------+-------+\n",
      "only showing top 5 rows\n",
      "\n"
     ]
    }
   ],
   "source": [
    "prepared_data.show(5)"
   ]
  },
  {
   "cell_type": "markdown",
   "metadata": {},
   "source": [
    "no need to split into train and test because for this problem we will be using the entire set of data to fit the model and get the 'coefficients'"
   ]
  },
  {
   "cell_type": "markdown",
   "metadata": {},
   "source": [
    "### Random Forest Classifier"
   ]
  },
  {
   "cell_type": "code",
   "execution_count": 52,
   "metadata": {},
   "outputs": [],
   "source": [
    "from pyspark.ml.classification import RandomForestClassifier, DecisionTreeClassifier"
   ]
  },
  {
   "cell_type": "code",
   "execution_count": 53,
   "metadata": {},
   "outputs": [],
   "source": [
    "dtc = DecisionTreeClassifier(labelCol='Spoiled',featuresCol='features')\n",
    "rfc = RandomForestClassifier(labelCol='Spoiled',featuresCol='features', numTrees=100)"
   ]
  },
  {
   "cell_type": "code",
   "execution_count": 54,
   "metadata": {},
   "outputs": [],
   "source": [
    "dtc_model = dtc.fit(prepared_data)\n",
    "rfc_model = rfc.fit(prepared_data)"
   ]
  },
  {
   "cell_type": "code",
   "execution_count": 55,
   "metadata": {},
   "outputs": [
    {
     "data": {
      "text/plain": [
       "SparseVector(4, {0: 0.0026, 1: 0.0089, 2: 0.9686, 3: 0.0199})"
      ]
     },
     "execution_count": 55,
     "metadata": {},
     "output_type": "execute_result"
    }
   ],
   "source": [
    "dtc_model.featureImportances"
   ]
  },
  {
   "cell_type": "code",
   "execution_count": 56,
   "metadata": {},
   "outputs": [
    {
     "data": {
      "text/plain": [
       "SparseVector(4, {0: 0.0187, 1: 0.0202, 2: 0.9348, 3: 0.0264})"
      ]
     },
     "execution_count": 56,
     "metadata": {},
     "output_type": "execute_result"
    }
   ],
   "source": [
    "rfc_model.featureImportances"
   ]
  },
  {
   "cell_type": "markdown",
   "metadata": {},
   "source": [
    "The C preservative has clearly the strongest effect!"
   ]
  }
 ],
 "metadata": {
  "anaconda-cloud": {},
  "kernelspec": {
   "display_name": "Python 3",
   "language": "python",
   "name": "python3"
  },
  "language_info": {
   "codemirror_mode": {
    "name": "ipython",
    "version": 3
   },
   "file_extension": ".py",
   "mimetype": "text/x-python",
   "name": "python",
   "nbconvert_exporter": "python",
   "pygments_lexer": "ipython3",
   "version": "3.5.2"
  }
 },
 "nbformat": 4,
 "nbformat_minor": 1
}
