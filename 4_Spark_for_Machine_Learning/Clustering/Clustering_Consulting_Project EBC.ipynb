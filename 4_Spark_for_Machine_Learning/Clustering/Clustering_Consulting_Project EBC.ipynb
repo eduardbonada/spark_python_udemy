{
 "cells": [
  {
   "cell_type": "markdown",
   "metadata": {},
   "source": [
    "# Clustering Consulting Project \n",
    "\n",
    "A large technology firm needs your help, they've been hacked! Luckily their forensic engineers have grabbed valuable data about the hacks, including information like session time,locations, wpm typing speed, etc. The forensic engineer relates to you what she has been able to figure out so far, she has been able to grab meta data of each session that the hackers used to connect to their servers. These are the features of the data:\n",
    "\n",
    "* 'Session_Connection_Time': How long the session lasted in minutes\n",
    "* 'Bytes Transferred': Number of MB transferred during session\n",
    "* 'Kali_Trace_Used': Indicates if the hacker was using Kali Linux\n",
    "* 'Servers_Corrupted': Number of server corrupted during the attack\n",
    "* 'Pages_Corrupted': Number of pages illegally accessed\n",
    "* 'Location': Location attack came from (Probably useless because the hackers used VPNs)\n",
    "* 'WPM_Typing_Speed': Their estimated typing speed based on session logs.\n",
    "\n",
    "\n",
    "The technology firm has 3 potential hackers that perpetrated the attack. Their certain of the first two hackers but they aren't very sure if the third hacker was involved or not. They have requested your help! Can you help figure out whether or not the third suspect had anything to do with the attacks, or was it just two hackers? It's probably not possible to know for sure, but maybe what you've just learned about Clustering can help!\n",
    "\n",
    "**One last key fact, the forensic engineer knows that the hackers trade off attacks. Meaning they should each have roughly the same amount of attacks. For example if there were 100 total attacks, then in a 2 hacker situation each should have about 50 hacks, in a three hacker situation each would have about 33 hacks. The engineer believes this is the key element to solving this, but doesn't know how to distinguish this unlabeled data into groups of hackers.**"
   ]
  },
  {
   "cell_type": "markdown",
   "metadata": {},
   "source": [
    "### Load Spark and Data"
   ]
  },
  {
   "cell_type": "code",
   "execution_count": 1,
   "metadata": {},
   "outputs": [],
   "source": [
    "from pyspark.sql import SparkSession\n",
    "spark = SparkSession.builder.appName('clusterprojectebc').getOrCreate()"
   ]
  },
  {
   "cell_type": "code",
   "execution_count": 3,
   "metadata": {},
   "outputs": [],
   "source": [
    "# Load data\n",
    "data = spark.read.csv(\"hack_data.csv\",header=True,inferSchema=True)"
   ]
  },
  {
   "cell_type": "code",
   "execution_count": 4,
   "metadata": {},
   "outputs": [
    {
     "name": "stdout",
     "output_type": "stream",
     "text": [
      "root\n",
      " |-- Session_Connection_Time: double (nullable = true)\n",
      " |-- Bytes Transferred: double (nullable = true)\n",
      " |-- Kali_Trace_Used: integer (nullable = true)\n",
      " |-- Servers_Corrupted: double (nullable = true)\n",
      " |-- Pages_Corrupted: double (nullable = true)\n",
      " |-- Location: string (nullable = true)\n",
      " |-- WPM_Typing_Speed: double (nullable = true)\n",
      "\n"
     ]
    }
   ],
   "source": [
    "data.printSchema()"
   ]
  },
  {
   "cell_type": "code",
   "execution_count": 6,
   "metadata": {},
   "outputs": [
    {
     "data": {
      "text/html": [
       "<div>\n",
       "<style scoped>\n",
       "    .dataframe tbody tr th:only-of-type {\n",
       "        vertical-align: middle;\n",
       "    }\n",
       "\n",
       "    .dataframe tbody tr th {\n",
       "        vertical-align: top;\n",
       "    }\n",
       "\n",
       "    .dataframe thead th {\n",
       "        text-align: right;\n",
       "    }\n",
       "</style>\n",
       "<table border=\"1\" class=\"dataframe\">\n",
       "  <thead>\n",
       "    <tr style=\"text-align: right;\">\n",
       "      <th></th>\n",
       "      <th>Session_Connection_Time</th>\n",
       "      <th>Bytes Transferred</th>\n",
       "      <th>Kali_Trace_Used</th>\n",
       "      <th>Servers_Corrupted</th>\n",
       "      <th>Pages_Corrupted</th>\n",
       "      <th>Location</th>\n",
       "      <th>WPM_Typing_Speed</th>\n",
       "    </tr>\n",
       "  </thead>\n",
       "  <tbody>\n",
       "    <tr>\n",
       "      <th>0</th>\n",
       "      <td>8.0</td>\n",
       "      <td>391.09</td>\n",
       "      <td>1</td>\n",
       "      <td>2.96</td>\n",
       "      <td>7.0</td>\n",
       "      <td>Slovenia</td>\n",
       "      <td>72.37</td>\n",
       "    </tr>\n",
       "    <tr>\n",
       "      <th>1</th>\n",
       "      <td>20.0</td>\n",
       "      <td>720.99</td>\n",
       "      <td>0</td>\n",
       "      <td>3.04</td>\n",
       "      <td>9.0</td>\n",
       "      <td>British Virgin Islands</td>\n",
       "      <td>69.08</td>\n",
       "    </tr>\n",
       "    <tr>\n",
       "      <th>2</th>\n",
       "      <td>31.0</td>\n",
       "      <td>356.32</td>\n",
       "      <td>1</td>\n",
       "      <td>3.71</td>\n",
       "      <td>8.0</td>\n",
       "      <td>Tokelau</td>\n",
       "      <td>70.58</td>\n",
       "    </tr>\n",
       "    <tr>\n",
       "      <th>3</th>\n",
       "      <td>2.0</td>\n",
       "      <td>228.08</td>\n",
       "      <td>1</td>\n",
       "      <td>2.48</td>\n",
       "      <td>8.0</td>\n",
       "      <td>Bolivia</td>\n",
       "      <td>70.80</td>\n",
       "    </tr>\n",
       "    <tr>\n",
       "      <th>4</th>\n",
       "      <td>20.0</td>\n",
       "      <td>408.50</td>\n",
       "      <td>0</td>\n",
       "      <td>3.57</td>\n",
       "      <td>8.0</td>\n",
       "      <td>Iraq</td>\n",
       "      <td>71.28</td>\n",
       "    </tr>\n",
       "  </tbody>\n",
       "</table>\n",
       "</div>"
      ],
      "text/plain": [
       "   Session_Connection_Time  Bytes Transferred  Kali_Trace_Used  \\\n",
       "0                      8.0             391.09                1   \n",
       "1                     20.0             720.99                0   \n",
       "2                     31.0             356.32                1   \n",
       "3                      2.0             228.08                1   \n",
       "4                     20.0             408.50                0   \n",
       "\n",
       "   Servers_Corrupted  Pages_Corrupted                Location  \\\n",
       "0               2.96              7.0                Slovenia   \n",
       "1               3.04              9.0  British Virgin Islands   \n",
       "2               3.71              8.0                 Tokelau   \n",
       "3               2.48              8.0                 Bolivia   \n",
       "4               3.57              8.0                    Iraq   \n",
       "\n",
       "   WPM_Typing_Speed  \n",
       "0             72.37  \n",
       "1             69.08  \n",
       "2             70.58  \n",
       "3             70.80  \n",
       "4             71.28  "
      ]
     },
     "execution_count": 6,
     "metadata": {},
     "output_type": "execute_result"
    }
   ],
   "source": [
    "data.limit(5).toPandas()"
   ]
  },
  {
   "cell_type": "code",
   "execution_count": 10,
   "metadata": {},
   "outputs": [
    {
     "data": {
      "text/html": [
       "<div>\n",
       "<style scoped>\n",
       "    .dataframe tbody tr th:only-of-type {\n",
       "        vertical-align: middle;\n",
       "    }\n",
       "\n",
       "    .dataframe tbody tr th {\n",
       "        vertical-align: top;\n",
       "    }\n",
       "\n",
       "    .dataframe thead th {\n",
       "        text-align: right;\n",
       "    }\n",
       "</style>\n",
       "<table border=\"1\" class=\"dataframe\">\n",
       "  <thead>\n",
       "    <tr style=\"text-align: right;\">\n",
       "      <th></th>\n",
       "      <th>summary</th>\n",
       "      <th>Session_Connection_Time</th>\n",
       "      <th>Bytes Transferred</th>\n",
       "      <th>Kali_Trace_Used</th>\n",
       "      <th>Servers_Corrupted</th>\n",
       "      <th>Pages_Corrupted</th>\n",
       "      <th>Location</th>\n",
       "      <th>WPM_Typing_Speed</th>\n",
       "    </tr>\n",
       "  </thead>\n",
       "  <tbody>\n",
       "    <tr>\n",
       "      <th>0</th>\n",
       "      <td>count</td>\n",
       "      <td>334</td>\n",
       "      <td>334</td>\n",
       "      <td>334</td>\n",
       "      <td>334</td>\n",
       "      <td>334</td>\n",
       "      <td>334</td>\n",
       "      <td>334</td>\n",
       "    </tr>\n",
       "    <tr>\n",
       "      <th>1</th>\n",
       "      <td>mean</td>\n",
       "      <td>30.008982035928145</td>\n",
       "      <td>607.2452694610777</td>\n",
       "      <td>0.5119760479041916</td>\n",
       "      <td>5.258502994011977</td>\n",
       "      <td>10.838323353293413</td>\n",
       "      <td>None</td>\n",
       "      <td>57.342395209580864</td>\n",
       "    </tr>\n",
       "    <tr>\n",
       "      <th>2</th>\n",
       "      <td>stddev</td>\n",
       "      <td>14.088200614636158</td>\n",
       "      <td>286.33593163576757</td>\n",
       "      <td>0.5006065264451406</td>\n",
       "      <td>2.30190693339697</td>\n",
       "      <td>3.06352633036022</td>\n",
       "      <td>None</td>\n",
       "      <td>13.41106336843464</td>\n",
       "    </tr>\n",
       "    <tr>\n",
       "      <th>3</th>\n",
       "      <td>min</td>\n",
       "      <td>1.0</td>\n",
       "      <td>10.0</td>\n",
       "      <td>0</td>\n",
       "      <td>1.0</td>\n",
       "      <td>6.0</td>\n",
       "      <td>Afghanistan</td>\n",
       "      <td>40.0</td>\n",
       "    </tr>\n",
       "    <tr>\n",
       "      <th>4</th>\n",
       "      <td>max</td>\n",
       "      <td>60.0</td>\n",
       "      <td>1330.5</td>\n",
       "      <td>1</td>\n",
       "      <td>10.0</td>\n",
       "      <td>15.0</td>\n",
       "      <td>Zimbabwe</td>\n",
       "      <td>75.0</td>\n",
       "    </tr>\n",
       "  </tbody>\n",
       "</table>\n",
       "</div>"
      ],
      "text/plain": [
       "  summary Session_Connection_Time   Bytes Transferred     Kali_Trace_Used  \\\n",
       "0   count                     334                 334                 334   \n",
       "1    mean      30.008982035928145   607.2452694610777  0.5119760479041916   \n",
       "2  stddev      14.088200614636158  286.33593163576757  0.5006065264451406   \n",
       "3     min                     1.0                10.0                   0   \n",
       "4     max                    60.0              1330.5                   1   \n",
       "\n",
       "   Servers_Corrupted     Pages_Corrupted     Location    WPM_Typing_Speed  \n",
       "0                334                 334          334                 334  \n",
       "1  5.258502994011977  10.838323353293413         None  57.342395209580864  \n",
       "2   2.30190693339697    3.06352633036022         None   13.41106336843464  \n",
       "3                1.0                 6.0  Afghanistan                40.0  \n",
       "4               10.0                15.0     Zimbabwe                75.0  "
      ]
     },
     "execution_count": 10,
     "metadata": {},
     "output_type": "execute_result"
    }
   ],
   "source": [
    "data.describe().toPandas()"
   ]
  },
  {
   "cell_type": "markdown",
   "metadata": {},
   "source": [
    "### Clean Data"
   ]
  },
  {
   "cell_type": "code",
   "execution_count": 11,
   "metadata": {},
   "outputs": [
    {
     "data": {
      "text/html": [
       "<div>\n",
       "<style scoped>\n",
       "    .dataframe tbody tr th:only-of-type {\n",
       "        vertical-align: middle;\n",
       "    }\n",
       "\n",
       "    .dataframe tbody tr th {\n",
       "        vertical-align: top;\n",
       "    }\n",
       "\n",
       "    .dataframe thead th {\n",
       "        text-align: right;\n",
       "    }\n",
       "</style>\n",
       "<table border=\"1\" class=\"dataframe\">\n",
       "  <thead>\n",
       "    <tr style=\"text-align: right;\">\n",
       "      <th></th>\n",
       "      <th>Session_Connection_Time</th>\n",
       "      <th>Bytes Transferred</th>\n",
       "      <th>Kali_Trace_Used</th>\n",
       "      <th>Servers_Corrupted</th>\n",
       "      <th>Pages_Corrupted</th>\n",
       "      <th>Location</th>\n",
       "      <th>WPM_Typing_Speed</th>\n",
       "    </tr>\n",
       "  </thead>\n",
       "  <tbody>\n",
       "    <tr>\n",
       "      <th>0</th>\n",
       "      <td>0</td>\n",
       "      <td>0</td>\n",
       "      <td>0</td>\n",
       "      <td>0</td>\n",
       "      <td>0</td>\n",
       "      <td>0</td>\n",
       "      <td>0</td>\n",
       "    </tr>\n",
       "  </tbody>\n",
       "</table>\n",
       "</div>"
      ],
      "text/plain": [
       "   Session_Connection_Time  Bytes Transferred  Kali_Trace_Used  \\\n",
       "0                        0                  0                0   \n",
       "\n",
       "   Servers_Corrupted  Pages_Corrupted  Location  WPM_Typing_Speed  \n",
       "0                  0                0         0                 0  "
      ]
     },
     "execution_count": 11,
     "metadata": {},
     "output_type": "execute_result"
    }
   ],
   "source": [
    "# list number of NANs or NULLs in each column\n",
    "from pyspark.sql.functions import count, when, isnan, col\n",
    "data.select([count(when(isnan(c) | col(c).isNull(), c)).alias(c) for c in data.columns]).toPandas()"
   ]
  },
  {
   "cell_type": "code",
   "execution_count": 15,
   "metadata": {},
   "outputs": [],
   "source": [
    "cleaned_data=data"
   ]
  },
  {
   "cell_type": "markdown",
   "metadata": {},
   "source": [
    "### Prepare data"
   ]
  },
  {
   "cell_type": "code",
   "execution_count": 29,
   "metadata": {},
   "outputs": [],
   "source": [
    "from pyspark.ml.feature import StringIndexer, OneHotEncoderEstimator, StandardScaler, VectorAssembler\n",
    "from pyspark.ml import Pipeline"
   ]
  },
  {
   "cell_type": "markdown",
   "metadata": {},
   "source": [
    "#### One-hop encode 'location'"
   ]
  },
  {
   "cell_type": "code",
   "execution_count": 109,
   "metadata": {},
   "outputs": [],
   "source": [
    "# list all string columns where we will apply the transformations\n",
    "numerical_columns = ['Session_Connection_Time','Bytes Transferred','Kali_Trace_Used',\n",
    "                     'Servers_Corrupted','Pages_Corrupted','WPM_Typing_Speed']\n",
    "categorical_columns = ['Location']\n",
    "\n",
    "# create list with stages that will compose the pipeline\n",
    "pipeline_stages = [] "
   ]
  },
  {
   "cell_type": "code",
   "execution_count": 110,
   "metadata": {},
   "outputs": [],
   "source": [
    "# add the transformations on categorical columns as stages in the Pipeline\n",
    "for col in categorical_columns:\n",
    "    # Category Indexing with StringIndexer\n",
    "    stringIndexer = StringIndexer(inputCol=col, outputCol=col+\"Index\")\n",
    "\n",
    "    # Use OneHotEncoder to convert categorical variables into binary SparseVectors\n",
    "    oneHotEncoder = OneHotEncoderEstimator(inputCols=[col+\"Index\"], outputCols=[col+\"Vec\"])\n",
    "\n",
    "    # Add into pipeline stages\n",
    "    pipeline_stages += [stringIndexer, oneHotEncoder]"
   ]
  },
  {
   "cell_type": "markdown",
   "metadata": {},
   "source": [
    "#### Create vector features"
   ]
  },
  {
   "cell_type": "code",
   "execution_count": 111,
   "metadata": {},
   "outputs": [],
   "source": [
    "# Create a list of all the features to be assembled into a vector\n",
    "#assembler_cols = list(map(lambda c: c + \"Vec\", categorical_columns)) + numerical_columns\n",
    "assembler_cols = numerical_columns\n",
    "\n",
    "# Create the features vector\n",
    "vectorAssembler = VectorAssembler(inputCols = assembler_cols, outputCol='features')\n",
    "\n",
    "# Add into pipeline stages\n",
    "pipeline_stages += [vectorAssembler]"
   ]
  },
  {
   "cell_type": "markdown",
   "metadata": {},
   "source": [
    "#### Scale features"
   ]
  },
  {
   "cell_type": "code",
   "execution_count": 112,
   "metadata": {},
   "outputs": [],
   "source": [
    "# create the scaler to scale the features\n",
    "featureScaler = StandardScaler(inputCol=\"features\", outputCol=\"scaledFeatures\", withStd=True, withMean=False)\n",
    "\n",
    "# Add into pipeline stages\n",
    "pipeline_stages += [featureScaler]"
   ]
  },
  {
   "cell_type": "code",
   "execution_count": 113,
   "metadata": {},
   "outputs": [
    {
     "data": {
      "text/plain": [
       "[StringIndexer_43e5ba3b455154bc29bb,\n",
       " OneHotEncoderEstimator_4bbc863eb604678b8e5c,\n",
       " VectorAssembler_40768bcfd989d7b97919,\n",
       " StandardScaler_438a8606619a3163469c]"
      ]
     },
     "execution_count": 113,
     "metadata": {},
     "output_type": "execute_result"
    }
   ],
   "source": [
    "pipeline_stages"
   ]
  },
  {
   "cell_type": "markdown",
   "metadata": {},
   "source": [
    "#### Manually test pipeline stages"
   ]
  },
  {
   "cell_type": "code",
   "execution_count": 114,
   "metadata": {},
   "outputs": [],
   "source": [
    "#data1 = pipeline_stages[0].fit(cleaned_data.limit(5)).transform(cleaned_data.limit(5))\n",
    "#data1.toPandas()"
   ]
  },
  {
   "cell_type": "code",
   "execution_count": 115,
   "metadata": {},
   "outputs": [],
   "source": [
    "#data2 = pipeline_stages[1].fit(data1).transform(data1)\n",
    "#data2.toPandas()['LocationVec']"
   ]
  },
  {
   "cell_type": "code",
   "execution_count": 116,
   "metadata": {},
   "outputs": [],
   "source": [
    "#data3 = pipeline_stages[2].transform(data2)\n",
    "#data3.toPandas()['features']"
   ]
  },
  {
   "cell_type": "code",
   "execution_count": 117,
   "metadata": {},
   "outputs": [],
   "source": [
    "#data4 = pipeline_stages[3].fit(data3).transform(data3)\n",
    "#data4.toPandas()['scaledFeatures']"
   ]
  },
  {
   "cell_type": "markdown",
   "metadata": {},
   "source": [
    "#### Create and Run pipeline"
   ]
  },
  {
   "cell_type": "code",
   "execution_count": 118,
   "metadata": {},
   "outputs": [],
   "source": [
    "# Create a Pipeline with all previous actions\n",
    "features_pipeline = Pipeline(stages=pipeline_stages)"
   ]
  },
  {
   "cell_type": "code",
   "execution_count": 95,
   "metadata": {},
   "outputs": [],
   "source": [
    "# check against the manually executed stages\n",
    "#features_pipeline.fit(cleaned_data.limit(5)).transform(cleaned_data.limit(5)).select('scaledFeatures').toPandas()"
   ]
  },
  {
   "cell_type": "code",
   "execution_count": 124,
   "metadata": {},
   "outputs": [],
   "source": [
    "# Run the feature transformations\n",
    "final_data = features_pipeline.fit(cleaned_data).transform(cleaned_data)"
   ]
  },
  {
   "cell_type": "code",
   "execution_count": 126,
   "metadata": {},
   "outputs": [
    {
     "name": "stdout",
     "output_type": "stream",
     "text": [
      "root\n",
      " |-- Session_Connection_Time: double (nullable = true)\n",
      " |-- Bytes Transferred: double (nullable = true)\n",
      " |-- Kali_Trace_Used: integer (nullable = true)\n",
      " |-- Servers_Corrupted: double (nullable = true)\n",
      " |-- Pages_Corrupted: double (nullable = true)\n",
      " |-- Location: string (nullable = true)\n",
      " |-- WPM_Typing_Speed: double (nullable = true)\n",
      " |-- LocationIndex: double (nullable = false)\n",
      " |-- LocationVec: vector (nullable = true)\n",
      " |-- features: vector (nullable = true)\n",
      " |-- scaledFeatures: vector (nullable = true)\n",
      "\n"
     ]
    }
   ],
   "source": [
    "final_data.printSchema()"
   ]
  },
  {
   "cell_type": "markdown",
   "metadata": {},
   "source": [
    "## Train the clustering model and evaluate"
   ]
  },
  {
   "cell_type": "code",
   "execution_count": 127,
   "metadata": {},
   "outputs": [],
   "source": [
    "from pyspark.ml.clustering import KMeans"
   ]
  },
  {
   "cell_type": "code",
   "execution_count": 163,
   "metadata": {},
   "outputs": [],
   "source": [
    "# create and configure the kmeans model\n",
    "kmeans = KMeans(featuresCol='scaledFeatures', k=2)\n",
    "\n",
    "# train the model\n",
    "kmeans_model = kmeans.fit(final_data)"
   ]
  },
  {
   "cell_type": "code",
   "execution_count": 161,
   "metadata": {},
   "outputs": [
    {
     "name": "stdout",
     "output_type": "stream",
     "text": [
      "WSSSE = 434.1492898715845\n"
     ]
    }
   ],
   "source": [
    "# Evaluate clustering by computing \"Within Set Sum of Squared Errors\"\n",
    "wssse = kmeans_model.computeCost(final_data)\n",
    "print(\"WSSSE = \" + str(wssse))"
   ]
  },
  {
   "cell_type": "markdown",
   "metadata": {},
   "source": [
    "Numerical features & Location\n",
    " - K=2 WSSSE=61599\n",
    " - K=3 WSSSE=61261\n",
    " - K=4 WSSSE=60919\n",
    "\n",
    "Numerical features\n",
    " - K=2 WSSSE=601\n",
    " - K=3 WSSSE=434\n",
    " - K=4 WSSSE=267\n",
    " - K=5 WSSSE=400 "
   ]
  },
  {
   "cell_type": "code",
   "execution_count": 164,
   "metadata": {},
   "outputs": [
    {
     "name": "stdout",
     "output_type": "stream",
     "text": [
      "+----------+-----+\n",
      "|prediction|count|\n",
      "+----------+-----+\n",
      "|         1|  167|\n",
      "|         0|  167|\n",
      "+----------+-----+\n",
      "\n"
     ]
    }
   ],
   "source": [
    "kmeans_model.transform(final_data).select('prediction').groupBy('prediction').count().show()"
   ]
  },
  {
   "cell_type": "markdown",
   "metadata": {},
   "source": [
    "## 2 hackers!"
   ]
  },
  {
   "cell_type": "code",
   "execution_count": 166,
   "metadata": {},
   "outputs": [],
   "source": [
    "# 3 hackers\n",
    "#+----------+-----+\n",
    "#|prediction|count|\n",
    "#+----------+-----+\n",
    "#|         1|   83|\n",
    "#|         2|   84|\n",
    "#|         0|  167|\n",
    "#+----------+-----+\n",
    "\n",
    "# 2 hackers\n",
    "#+----------+-----+\n",
    "#|prediction|count|\n",
    "#+----------+-----+\n",
    "#|         1|  167|\n",
    "#|         0|  167|\n",
    "#+----------+-----+"
   ]
  },
  {
   "cell_type": "code",
   "execution_count": null,
   "metadata": {},
   "outputs": [],
   "source": []
  }
 ],
 "metadata": {
  "anaconda-cloud": {},
  "kernelspec": {
   "display_name": "Python 3",
   "language": "python",
   "name": "python3"
  },
  "language_info": {
   "codemirror_mode": {
    "name": "ipython",
    "version": 3
   },
   "file_extension": ".py",
   "mimetype": "text/x-python",
   "name": "python",
   "nbconvert_exporter": "python",
   "pygments_lexer": "ipython3",
   "version": "3.5.2"
  }
 },
 "nbformat": 4,
 "nbformat_minor": 1
}
