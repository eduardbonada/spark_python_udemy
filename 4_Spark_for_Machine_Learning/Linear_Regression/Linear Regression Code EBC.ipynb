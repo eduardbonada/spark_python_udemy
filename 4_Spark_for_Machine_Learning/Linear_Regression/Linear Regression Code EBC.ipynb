{
 "cells": [
  {
   "cell_type": "markdown",
   "metadata": {},
   "source": [
    "# Linear Regression Code\n",
    "\n",
    "- Predict customer expenditure amount (continuous value => Regression)\n",
    "- Linear Regression Algorithm\n",
    "- Convert realistic data into Spark MLlib format"
   ]
  },
  {
   "cell_type": "code",
   "execution_count": 1,
   "metadata": {},
   "outputs": [],
   "source": [
    "# start spark session\n",
    "from pyspark.sql import SparkSession\n",
    "spark = SparkSession.builder.appName('lr_example').getOrCreate()"
   ]
  },
  {
   "cell_type": "code",
   "execution_count": 2,
   "metadata": {},
   "outputs": [],
   "source": [
    "# load linear regression lib\n",
    "from pyspark.ml.regression import LinearRegression"
   ]
  },
  {
   "cell_type": "code",
   "execution_count": 3,
   "metadata": {},
   "outputs": [],
   "source": [
    "# read in the input csv file.\n",
    "data = spark.read.csv('Ecommerce_Customers.csv', inferSchema=True, header=True)"
   ]
  },
  {
   "cell_type": "markdown",
   "metadata": {},
   "source": [
    "## Explore the data"
   ]
  },
  {
   "cell_type": "code",
   "execution_count": 4,
   "metadata": {},
   "outputs": [
    {
     "name": "stdout",
     "output_type": "stream",
     "text": [
      "root\n",
      " |-- Email: string (nullable = true)\n",
      " |-- Address: string (nullable = true)\n",
      " |-- Avatar: string (nullable = true)\n",
      " |-- Avg Session Length: double (nullable = true)\n",
      " |-- Time on App: double (nullable = true)\n",
      " |-- Time on Website: double (nullable = true)\n",
      " |-- Length of Membership: double (nullable = true)\n",
      " |-- Yearly Amount Spent: double (nullable = true)\n",
      "\n"
     ]
    }
   ],
   "source": [
    "data.printSchema()"
   ]
  },
  {
   "cell_type": "code",
   "execution_count": 5,
   "metadata": {},
   "outputs": [],
   "source": [
    "#data.describe().show()"
   ]
  },
  {
   "cell_type": "code",
   "execution_count": 6,
   "metadata": {},
   "outputs": [
    {
     "name": "stdout",
     "output_type": "stream",
     "text": [
      "mstephenson@fernandez.com\n",
      "835 Frank TunnelWrightmouth, MI 82180-9605\n",
      "Violet\n",
      "34.49726772511229\n",
      "12.65565114916675\n",
      "39.57766801952616\n",
      "4.0826206329529615\n",
      "587.9510539684005\n"
     ]
    }
   ],
   "source": [
    "for item in data.head():\n",
    "    print(item)"
   ]
  },
  {
   "cell_type": "markdown",
   "metadata": {},
   "source": [
    "## Convert data to MLlib format\n",
    "It needs to be in the form of two columns: (\"label\",\"features\")"
   ]
  },
  {
   "cell_type": "code",
   "execution_count": 7,
   "metadata": {},
   "outputs": [],
   "source": [
    "# import helpers\n",
    "from pyspark.ml.linalg import Vectors\n",
    "from pyspark.ml.feature import VectorAssembler"
   ]
  },
  {
   "cell_type": "code",
   "execution_count": 8,
   "metadata": {},
   "outputs": [],
   "source": [
    "# create and configure the vector assembler with the desired 'features' columns\n",
    "assembler = VectorAssembler(\n",
    "    inputCols=['Avg Session Length', 'Time on App', 'Time on Website', 'Length of Membership'],\n",
    "    outputCol='features')\n",
    "\n",
    "# assemble the 'features'\n",
    "output = assembler.transform(data)"
   ]
  },
  {
   "cell_type": "code",
   "execution_count": 9,
   "metadata": {},
   "outputs": [
    {
     "name": "stdout",
     "output_type": "stream",
     "text": [
      "root\n",
      " |-- Email: string (nullable = true)\n",
      " |-- Address: string (nullable = true)\n",
      " |-- Avatar: string (nullable = true)\n",
      " |-- Avg Session Length: double (nullable = true)\n",
      " |-- Time on App: double (nullable = true)\n",
      " |-- Time on Website: double (nullable = true)\n",
      " |-- Length of Membership: double (nullable = true)\n",
      " |-- Yearly Amount Spent: double (nullable = true)\n",
      " |-- features: vector (nullable = true)\n",
      "\n"
     ]
    }
   ],
   "source": [
    "# the assembler output is the input with the added column 'features'\n",
    "output.printSchema()"
   ]
  },
  {
   "cell_type": "code",
   "execution_count": 10,
   "metadata": {},
   "outputs": [
    {
     "name": "stdout",
     "output_type": "stream",
     "text": [
      "+--------------------+\n",
      "|            features|\n",
      "+--------------------+\n",
      "|[34.4972677251122...|\n",
      "|[31.9262720263601...|\n",
      "|[33.0009147556426...|\n",
      "|[34.3055566297555...|\n",
      "|[33.3306725236463...|\n",
      "|[33.8710378793419...|\n",
      "|[32.0215955013870...|\n",
      "|[32.7391429383803...|\n",
      "|[33.9877728956856...|\n",
      "|[31.9365486184489...|\n",
      "|[33.9925727749537...|\n",
      "|[33.8793608248049...|\n",
      "|[29.5324289670579...|\n",
      "|[33.1903340437226...|\n",
      "|[32.3879758531538...|\n",
      "|[30.7377203726281...|\n",
      "|[32.1253868972878...|\n",
      "|[32.3388993230671...|\n",
      "|[32.1878120459321...|\n",
      "|[32.6178560628234...|\n",
      "+--------------------+\n",
      "only showing top 20 rows\n",
      "\n"
     ]
    }
   ],
   "source": [
    "# 'features' is an array with the assembled data\n",
    "output.select('features').show()"
   ]
  },
  {
   "cell_type": "code",
   "execution_count": 16,
   "metadata": {},
   "outputs": [],
   "source": [
    "# select only features and label columns\n",
    "final_data = output.select([output['features'], output['Yearly Amount Spent'].alias('expenditure')])"
   ]
  },
  {
   "cell_type": "code",
   "execution_count": 17,
   "metadata": {},
   "outputs": [],
   "source": [
    "# split into training and testing sets\n",
    "train_data, test_data = final_data.randomSplit([0.7,0.3])"
   ]
  },
  {
   "cell_type": "code",
   "execution_count": 18,
   "metadata": {},
   "outputs": [
    {
     "name": "stdout",
     "output_type": "stream",
     "text": [
      "+-------+------------------+\n",
      "|summary|       expenditure|\n",
      "+-------+------------------+\n",
      "|  count|               343|\n",
      "|   mean|497.33460940319003|\n",
      "| stddev|  76.1699510809515|\n",
      "|    min|256.67058229005585|\n",
      "|    max| 765.5184619388373|\n",
      "+-------+------------------+\n",
      "\n"
     ]
    }
   ],
   "source": [
    "train_data.describe().show()"
   ]
  },
  {
   "cell_type": "code",
   "execution_count": 19,
   "metadata": {},
   "outputs": [
    {
     "name": "stdout",
     "output_type": "stream",
     "text": [
      "+-------+------------------+\n",
      "|summary|       expenditure|\n",
      "+-------+------------------+\n",
      "|  count|               157|\n",
      "|   mean|503.63852295542176|\n",
      "| stddev| 85.88191921757424|\n",
      "|    min|  266.086340948469|\n",
      "|    max| 744.2218671047146|\n",
      "+-------+------------------+\n",
      "\n"
     ]
    }
   ],
   "source": [
    "test_data.describe().show()"
   ]
  },
  {
   "cell_type": "markdown",
   "metadata": {},
   "source": [
    "## Create and Evaluate Linear Regression Model"
   ]
  },
  {
   "cell_type": "code",
   "execution_count": 21,
   "metadata": {},
   "outputs": [],
   "source": [
    "# create linear regression modeñl object\n",
    "lr = LinearRegression(featuresCol='features', labelCol='expenditure', predictionCol='expenditure_pred')"
   ]
  },
  {
   "cell_type": "code",
   "execution_count": 22,
   "metadata": {},
   "outputs": [],
   "source": [
    "# fit the model with the training data\n",
    "lr_model = lr.fit(train_data)"
   ]
  },
  {
   "cell_type": "code",
   "execution_count": 25,
   "metadata": {},
   "outputs": [
    {
     "name": "stdout",
     "output_type": "stream",
     "text": [
      "Coefficients: [26.161405080006446,38.03906632391081,0.31653059095304314,61.86527226556498]\n",
      "Intercept: -1053.8051091940522\n"
     ]
    }
   ],
   "source": [
    "# print the coefficients and intercept for linear regression\n",
    "# Coefficients => 'Avg Session Length', 'Time on App', 'Time on Website', 'Length of Membership'\n",
    "print(\"Coefficients: {}\\nIntercept: {}\".format(lr_model.coefficients,lr_model.intercept))"
   ]
  },
  {
   "cell_type": "code",
   "execution_count": 27,
   "metadata": {},
   "outputs": [],
   "source": [
    "# evaluate the model with the test_data\n",
    "test_results = lr_model.evaluate(test_data)"
   ]
  },
  {
   "cell_type": "code",
   "execution_count": 28,
   "metadata": {},
   "outputs": [
    {
     "name": "stdout",
     "output_type": "stream",
     "text": [
      "+-------------------+\n",
      "|          residuals|\n",
      "+-------------------+\n",
      "| 11.562328805557968|\n",
      "|-15.905871639119255|\n",
      "|-3.0663272170067444|\n",
      "|-2.5025954738886753|\n",
      "|  4.705524081528324|\n",
      "| -21.25330626156608|\n",
      "| -6.443467709521428|\n",
      "|  3.207483628826026|\n",
      "|-3.0068239039612763|\n",
      "| -8.803456780573356|\n",
      "|-1.6854533711995145|\n",
      "|  17.89235593232712|\n",
      "|-1.3766377041021656|\n",
      "| -4.247998401065217|\n",
      "| -4.372430185573421|\n",
      "|  8.560184674617005|\n",
      "| 10.539645328837764|\n",
      "|  -5.75169106944702|\n",
      "|  6.406702313570918|\n",
      "|-0.3145344023171788|\n",
      "+-------------------+\n",
      "only showing top 20 rows\n",
      "\n"
     ]
    }
   ],
   "source": [
    "# print the residuals (difference between prediction and labels)\n",
    "test_results.residuals.show()"
   ]
  },
  {
   "cell_type": "code",
   "execution_count": 36,
   "metadata": {},
   "outputs": [
    {
     "name": "stdout",
     "output_type": "stream",
     "text": [
      "MAE:  8.164564100703513\n",
      "MSE:  110.6571191317799\n",
      "RMSE: 10.519368761089227\n",
      "R2:   0.9849009045229011\n"
     ]
    }
   ],
   "source": [
    "# print some statistical evaluation indicators of the model\n",
    "print('MAE:  {}\\nMSE:  {}\\nRMSE: {}\\nR2:   {}'.format(test_results.meanAbsoluteError, \n",
    "                                                       test_results.meanSquaredError,\n",
    "                                                       test_results.rootMeanSquaredError,\n",
    "                                                       test_results.r2))"
   ]
  },
  {
   "cell_type": "code",
   "execution_count": 37,
   "metadata": {},
   "outputs": [
    {
     "name": "stdout",
     "output_type": "stream",
     "text": [
      "+-------+------------------+\n",
      "|summary|       expenditure|\n",
      "+-------+------------------+\n",
      "|  count|               500|\n",
      "|   mean| 499.3140382585909|\n",
      "| stddev|  79.3147815497068|\n",
      "|    min|256.67058229005585|\n",
      "|    max| 765.5184619388373|\n",
      "+-------+------------------+\n",
      "\n"
     ]
    }
   ],
   "source": [
    "# analyze indicators against original data\n",
    "final_data.describe().show()"
   ]
  },
  {
   "cell_type": "markdown",
   "metadata": {},
   "source": [
    "- An RMSE of 10.5$ on a expenditure label of 500$ is not bad (much smaller)\n",
    "- The R2 value indicates that our model explains 98% of the (test) data"
   ]
  },
  {
   "cell_type": "markdown",
   "metadata": {},
   "source": [
    "## Apply model to unlabeled data"
   ]
  },
  {
   "cell_type": "code",
   "execution_count": 39,
   "metadata": {},
   "outputs": [],
   "source": [
    "# create a set of unlabeled data using the test_data\n",
    "unlabeled_data = test_data.select('features')"
   ]
  },
  {
   "cell_type": "code",
   "execution_count": 42,
   "metadata": {},
   "outputs": [],
   "source": [
    "# apply the model and predict 'expenditure'\n",
    "expenditure_predictions = lr_model.transform(unlabeled_data)"
   ]
  },
  {
   "cell_type": "code",
   "execution_count": 43,
   "metadata": {},
   "outputs": [
    {
     "name": "stdout",
     "output_type": "stream",
     "text": [
      "+--------------------+------------------+\n",
      "|            features|  expenditure_pred|\n",
      "+--------------------+------------------+\n",
      "|[30.7377203726281...| 450.2184133906719|\n",
      "|[30.8162006488763...|281.99221258758826|\n",
      "|[30.8364326747734...|470.56822764399635|\n",
      "|[30.8794843441274...|492.70919545874335|\n",
      "|[31.0472221394875...|387.79187510749307|\n",
      "|[31.1239743499119...|508.20036010133185|\n",
      "|[31.1280900496166...| 563.6961544565761|\n",
      "|[31.3091926408918...| 429.5132342111076|\n",
      "|[31.4252268808548...| 533.7735425587232|\n",
      "|[31.4474464941278...| 427.4061988757974|\n",
      "|[31.5761319713222...| 542.9120373605278|\n",
      "|[31.6098395733896...|426.65319371878104|\n",
      "|[31.7216523605090...| 349.1535643359748|\n",
      "|[31.7656188210424...|500.80208003667235|\n",
      "|[31.8124825597242...|397.18277516937064|\n",
      "|[31.8512531286083...| 464.4320619921814|\n",
      "|[31.9096268275227...| 552.9063903444014|\n",
      "|[31.9453957483445...|  662.771615007099|\n",
      "|[31.9480174211613...| 455.5141745793269|\n",
      "|[32.0047530203648...| 464.0605155229466|\n",
      "+--------------------+------------------+\n",
      "only showing top 20 rows\n",
      "\n"
     ]
    }
   ],
   "source": [
    "expenditure_predictions.show()"
   ]
  },
  {
   "cell_type": "code",
   "execution_count": null,
   "metadata": {},
   "outputs": [],
   "source": []
  }
 ],
 "metadata": {
  "kernelspec": {
   "display_name": "Python 3",
   "language": "python",
   "name": "python3"
  },
  "language_info": {
   "codemirror_mode": {
    "name": "ipython",
    "version": 3
   },
   "file_extension": ".py",
   "mimetype": "text/x-python",
   "name": "python",
   "nbconvert_exporter": "python",
   "pygments_lexer": "ipython3",
   "version": "3.5.2"
  }
 },
 "nbformat": 4,
 "nbformat_minor": 2
}
