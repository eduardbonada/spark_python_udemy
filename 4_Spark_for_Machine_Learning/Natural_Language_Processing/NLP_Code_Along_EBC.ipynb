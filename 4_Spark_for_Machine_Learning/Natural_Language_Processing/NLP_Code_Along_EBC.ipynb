{
 "cells": [
  {
   "cell_type": "markdown",
   "metadata": {},
   "source": [
    "# NLP Code Along\n",
    "\n",
    "For this code along we will build a spam filter! We'll use the various NLP tools we learned about as well as a new classifier, Naive Bayes.\n",
    "\n",
    "We'll use a classic dataset for this - UCI Repository SMS Spam Detection: https://archive.ics.uci.edu/ml/datasets/SMS+Spam+Collection"
   ]
  },
  {
   "cell_type": "markdown",
   "metadata": {},
   "source": [
    "## Load Spark and Data"
   ]
  },
  {
   "cell_type": "code",
   "execution_count": 2,
   "metadata": {},
   "outputs": [],
   "source": [
    "from pyspark.sql import SparkSession\n",
    "spark = SparkSession.builder.appName('nlp').getOrCreate()"
   ]
  },
  {
   "cell_type": "code",
   "execution_count": 3,
   "metadata": {},
   "outputs": [],
   "source": [
    "data = spark.read.csv(\"smsspamcollection/SMSSpamCollection\",inferSchema=True,sep='\\t')"
   ]
  },
  {
   "cell_type": "code",
   "execution_count": 4,
   "metadata": {},
   "outputs": [],
   "source": [
    "# rename columns\n",
    "data = data.withColumnRenamed('_c0','class').withColumnRenamed('_c1','text')"
   ]
  },
  {
   "cell_type": "code",
   "execution_count": 8,
   "metadata": {},
   "outputs": [
    {
     "name": "stdout",
     "output_type": "stream",
     "text": [
      "+-----+--------------------+\n",
      "|class|                text|\n",
      "+-----+--------------------+\n",
      "|  ham|Go until jurong p...|\n",
      "|  ham|Ok lar... Joking ...|\n",
      "| spam|Free entry in 2 a...|\n",
      "|  ham|U dun say so earl...|\n",
      "|  ham|Nah I don't think...|\n",
      "+-----+--------------------+\n",
      "only showing top 5 rows\n",
      "\n"
     ]
    }
   ],
   "source": [
    "data.show(5)"
   ]
  },
  {
   "cell_type": "markdown",
   "metadata": {},
   "source": [
    "## Explore data\n",
    "\n",
    "To find additional features that might be useful for classification "
   ]
  },
  {
   "cell_type": "code",
   "execution_count": 57,
   "metadata": {},
   "outputs": [
    {
     "name": "stdout",
     "output_type": "stream",
     "text": [
      "+-------------------------------------------------------------------------------------------------------------------------------------------------------------+\n",
      "|text                                                                                                                                                         |\n",
      "+-------------------------------------------------------------------------------------------------------------------------------------------------------------+\n",
      "|Free entry in 2 a wkly comp to win FA Cup final tkts 21st May 2005. Text FA to 87121 to receive entry question(std txt rate)T&C's apply 08452810075over18's  |\n",
      "|FreeMsg Hey there darling it's been 3 week's now and no word back! I'd like some fun you up for it still? Tb ok! XxX std chgs to send, £1.50 to rcv          |\n",
      "|WINNER!! As a valued network customer you have been selected to receivea £900 prize reward! To claim call 09061701461. Claim code KL341. Valid 12 hours only.|\n",
      "|Had your mobile 11 months or more? U R entitled to Update to the latest colour mobiles with camera for Free! Call The Mobile Update Co FREE on 08002986030   |\n",
      "|SIX chances to win CASH! From 100 to 20,000 pounds txt> CSH11 and send to 87575. Cost 150p/day, 6days, 16+ TsandCs apply Reply HL 4 info                     |\n",
      "+-------------------------------------------------------------------------------------------------------------------------------------------------------------+\n",
      "only showing top 5 rows\n",
      "\n"
     ]
    }
   ],
   "source": [
    "data.filter(data['class']=='spam').select('text').show(5, truncate=False)"
   ]
  },
  {
   "cell_type": "markdown",
   "metadata": {},
   "source": [
    "### Length of the texts"
   ]
  },
  {
   "cell_type": "code",
   "execution_count": 65,
   "metadata": {},
   "outputs": [
    {
     "name": "stdout",
     "output_type": "stream",
     "text": [
      "+-----+-----------------+\n",
      "|class|      avg(length)|\n",
      "+-----+-----------------+\n",
      "|  ham|71.45431945307645|\n",
      "| spam|138.6706827309237|\n",
      "+-----+-----------------+\n",
      "\n"
     ]
    },
    {
     "data": {
      "text/plain": [
       "array([<matplotlib.axes._subplots.AxesSubplot object at 0x7f1b2ec20b38>,\n",
       "       <matplotlib.axes._subplots.AxesSubplot object at 0x7f1b2ed20f28>],\n",
       "      dtype=object)"
      ]
     },
     "execution_count": 65,
     "metadata": {},
     "output_type": "execute_result"
    },
    {
     "data": {
      "image/png": "[encoded data removed]",
      "text/plain": [
       "<Figure size 432x288 with 2 Axes>"
      ]
     },
     "metadata": {},
     "output_type": "display_data"
    }
   ],
   "source": [
    "from pyspark.sql.functions import length\n",
    "\n",
    "data = data\\\n",
    ".withColumn('length', length('text'))\\\n",
    "\n",
    "# compute average\n",
    "data.groupBy('class')\\\n",
    ".avg().show()\n",
    "\n",
    "# histogram\n",
    "data.select(['class', 'length']).toPandas().hist(column='length', by='class')"
   ]
  },
  {
   "cell_type": "markdown",
   "metadata": {},
   "source": [
    "**Length** is a useful feature!"
   ]
  },
  {
   "cell_type": "markdown",
   "metadata": {},
   "source": [
    "### Proportion of capital letters"
   ]
  },
  {
   "cell_type": "code",
   "execution_count": 66,
   "metadata": {},
   "outputs": [
    {
     "name": "stdout",
     "output_type": "stream",
     "text": [
      "+-----+-----------------+------------------+\n",
      "|class|      avg(length)|    avg(perc_caps)|\n",
      "+-----+-----------------+------------------+\n",
      "|  ham|71.45431945307645| 5.855368548729588|\n",
      "| spam|138.6706827309237|11.091319214965829|\n",
      "+-----+-----------------+------------------+\n",
      "\n"
     ]
    },
    {
     "data": {
      "text/plain": [
       "array([<matplotlib.axes._subplots.AxesSubplot object at 0x7f1b2eb4c9e8>,\n",
       "       <matplotlib.axes._subplots.AxesSubplot object at 0x7f1b2ecddf98>],\n",
       "      dtype=object)"
      ]
     },
     "execution_count": 66,
     "metadata": {},
     "output_type": "execute_result"
    },
    {
     "data": {
      "image/png": "[encoded data removed]",
      "text/plain": [
       "<Figure size 432x288 with 2 Axes>"
      ]
     },
     "metadata": {},
     "output_type": "display_data"
    }
   ],
   "source": [
    "from pyspark.sql.types import DoubleType\n",
    "from pyspark.sql.functions import udf, col\n",
    "\n",
    "perc_caps = udf(lambda s: 100*sum(1 for c in s if c.isupper())/sum(1 for c in s), DoubleType())\n",
    "\n",
    "data = data\\\n",
    ".withColumn('perc_caps', perc_caps(col('text')))\n",
    "\n",
    "# compute average\n",
    "data.groupBy('class')\\\n",
    ".avg().show()\n",
    "\n",
    "# histogram\n",
    "data.select(['class', 'perc_caps']).toPandas().hist(column='perc_caps', by='class')"
   ]
  },
  {
   "cell_type": "markdown",
   "metadata": {},
   "source": [
    "**% of caps** can be a useful feature! Maybe a little nit risky because some 'ham' messages have high % of caps, and the averages (5 vs 11) are not very separated given the range of values (0-80 aprox)"
   ]
  },
  {
   "cell_type": "code",
   "execution_count": 68,
   "metadata": {},
   "outputs": [
    {
     "name": "stdout",
     "output_type": "stream",
     "text": [
      "+-----+-----------------+------------------+------------------+\n",
      "|class|      avg(length)|    avg(perc_caps)|  avg(perc_digits)|\n",
      "+-----+-----------------+------------------+------------------+\n",
      "|  ham|71.45431945307645| 5.855368548729588|0.4241214135458442|\n",
      "| spam|138.6706827309237|11.091319214965829|11.653733735516644|\n",
      "+-----+-----------------+------------------+------------------+\n",
      "\n"
     ]
    },
    {
     "data": {
      "text/plain": [
       "array([<matplotlib.axes._subplots.AxesSubplot object at 0x7f1b2eb8e4a8>,\n",
       "       <matplotlib.axes._subplots.AxesSubplot object at 0x7f1b2eba3940>],\n",
       "      dtype=object)"
      ]
     },
     "execution_count": 68,
     "metadata": {},
     "output_type": "execute_result"
    },
    {
     "data": {
      "image/png": "[encoded data removed]",
      "text/plain": [
       "<Figure size 432x288 with 2 Axes>"
      ]
     },
     "metadata": {},
     "output_type": "display_data"
    }
   ],
   "source": [
    "from pyspark.sql.types import DoubleType\n",
    "from pyspark.sql.functions import udf, col\n",
    "\n",
    "perc_digits = udf(lambda s: 100*sum(1 for c in s if c.isdigit())/sum(1 for c in s), DoubleType())\n",
    "\n",
    "data = data\\\n",
    ".withColumn('perc_digits', perc_digits(col('text')))\n",
    "\n",
    "# compute average\n",
    "data.groupBy('class')\\\n",
    ".avg().show()\n",
    "\n",
    "# histogram\n",
    "data.select(['class', 'perc_digits']).toPandas().hist(column='perc_digits', by='class')"
   ]
  },
  {
   "cell_type": "markdown",
   "metadata": {},
   "source": [
    "**% of digits** can be a useful feature!"
   ]
  },
  {
   "cell_type": "markdown",
   "metadata": {},
   "source": [
    "## Feature Transformations"
   ]
  },
  {
   "cell_type": "code",
   "execution_count": 69,
   "metadata": {},
   "outputs": [
    {
     "name": "stdout",
     "output_type": "stream",
     "text": [
      "root\n",
      " |-- class: string (nullable = true)\n",
      " |-- text: string (nullable = true)\n",
      " |-- length: integer (nullable = true)\n",
      " |-- perc_caps: double (nullable = true)\n",
      " |-- perc_digits: double (nullable = true)\n",
      "\n"
     ]
    }
   ],
   "source": [
    "data.printSchema()"
   ]
  },
  {
   "cell_type": "code",
   "execution_count": 84,
   "metadata": {},
   "outputs": [],
   "source": [
    "# create all feature editors\n",
    "from pyspark.ml.feature import Tokenizer,RegexTokenizer,StopWordsRemover, CountVectorizer,IDF,StringIndexer,VectorAssembler\n",
    "\n",
    "# convert 'ham'/'spam' into numerical label\n",
    "label_formatter = StringIndexer(inputCol='class',outputCol='label')\n",
    "\n",
    "# break text into words\n",
    "#tokenizer = Tokenizer(inputCol=\"text\", outputCol=\"words\")\n",
    "tokenizer = RegexTokenizer(inputCol=\"text\", outputCol=\"words\", pattern=\"\\\\W\")\n",
    "\n",
    "# remove stop words\n",
    "stop_remover = StopWordsRemover(inputCol='words',outputCol='words_cleaned')\n",
    "\n",
    "# compute Term Frequency (TF) \n",
    "tf_computer = CountVectorizer(inputCol='words_cleaned',outputCol='tf')\n",
    "\n",
    "# compute idf\n",
    "idf_computer = IDF(inputCol=\"tf\", outputCol=\"tf_idf\")"
   ]
  },
  {
   "cell_type": "code",
   "execution_count": 197,
   "metadata": {},
   "outputs": [],
   "source": [
    "# assemble features into vector\n",
    "\n",
    "features = ['tf_idf','length']\n",
    "#features = ['tf_idf','length', 'perc_caps', 'perc_digits']\n",
    "\n",
    "features_assembler = VectorAssembler(inputCols=features,outputCol='features')"
   ]
  },
  {
   "cell_type": "markdown",
   "metadata": {},
   "source": [
    "### Manually test the feature editors"
   ]
  },
  {
   "cell_type": "code",
   "execution_count": 110,
   "metadata": {},
   "outputs": [],
   "source": [
    "#data1=label_formatter.fit(data.limit(10)).transform(data.limit(10))\n",
    "#data1.select('class', 'label').show()"
   ]
  },
  {
   "cell_type": "code",
   "execution_count": 109,
   "metadata": {},
   "outputs": [],
   "source": [
    "#data2=tokenizer.transform(data1)\n",
    "#data2.select('text','words').show(1,truncate=False)"
   ]
  },
  {
   "cell_type": "code",
   "execution_count": 108,
   "metadata": {},
   "outputs": [],
   "source": [
    "#data3=stop_remover.transform(data2)\n",
    "#data3.select('words_cleaned').show(1,truncate=False)"
   ]
  },
  {
   "cell_type": "code",
   "execution_count": 107,
   "metadata": {},
   "outputs": [],
   "source": [
    "#data4=tf_computer.fit(data3).transform(data3)\n",
    "#data4.select('words_cleaned').show(1,truncate=False)\n",
    "#data4.select('tf').show(1,truncate=False)"
   ]
  },
  {
   "cell_type": "code",
   "execution_count": 106,
   "metadata": {},
   "outputs": [],
   "source": [
    "#data5=idf_computer.fit(data4).transform(data4)\n",
    "#data5.select('words_cleaned').show(1,truncate=False)\n",
    "#data5.select('tf_idf').show(1,truncate=False)"
   ]
  },
  {
   "cell_type": "markdown",
   "metadata": {},
   "source": [
    "### Create the feature pipeline"
   ]
  },
  {
   "cell_type": "code",
   "execution_count": 198,
   "metadata": {},
   "outputs": [],
   "source": [
    "from pyspark.ml import Pipeline\n",
    "\n",
    "data_prep_pipeline = Pipeline(stages=[label_formatter,\n",
    "                                      tokenizer,\n",
    "                                      stop_remover,\n",
    "                                      tf_computer,\n",
    "                                      idf_computer, \n",
    "                                      features_assembler])"
   ]
  },
  {
   "cell_type": "code",
   "execution_count": 199,
   "metadata": {},
   "outputs": [],
   "source": [
    "prepared_data = data_prep_pipeline.fit(data).transform(data).select(['label','features'])"
   ]
  },
  {
   "cell_type": "code",
   "execution_count": 200,
   "metadata": {},
   "outputs": [],
   "source": [
    "(train_data,test_data) = prepared_data.randomSplit([0.7,0.3])"
   ]
  },
  {
   "cell_type": "markdown",
   "metadata": {},
   "source": [
    "## Training Model: Naive Bayes"
   ]
  },
  {
   "cell_type": "code",
   "execution_count": 136,
   "metadata": {},
   "outputs": [],
   "source": [
    "from pyspark.ml.classification import NaiveBayes\n",
    "\n",
    "nb = NaiveBayes()\n",
    "\n",
    "nb_spam_predictor = nb.fit(train_data)\n",
    "test_predictions = nb_spam_predictor.transform(test_data)\n",
    "\n",
    "#test_predictions.show(5)"
   ]
  },
  {
   "cell_type": "markdown",
   "metadata": {},
   "source": [
    "## Training Model: Logistic Regression"
   ]
  },
  {
   "cell_type": "code",
   "execution_count": 190,
   "metadata": {},
   "outputs": [],
   "source": [
    "from pyspark.ml.classification import LogisticRegression\n",
    "\n",
    "lr = LogisticRegression(regParam=0.1)\n",
    "\n",
    "lr_spam_predictor = lr.fit(train_data)\n",
    "test_predictions = lr_spam_predictor.transform(test_data)"
   ]
  },
  {
   "cell_type": "markdown",
   "metadata": {},
   "source": [
    "## Training Model: Random Forest"
   ]
  },
  {
   "cell_type": "code",
   "execution_count": 201,
   "metadata": {},
   "outputs": [],
   "source": [
    "from pyspark.ml.classification import RandomForestClassifier\n",
    "\n",
    "rf = RandomForestClassifier(numTrees=100)\n",
    "\n",
    "rf_spam_predictor = rf.fit(train_data)\n",
    "test_predictions = rf_spam_predictor.transform(test_data)"
   ]
  },
  {
   "cell_type": "markdown",
   "metadata": {},
   "source": [
    "## Evaluation"
   ]
  },
  {
   "cell_type": "code",
   "execution_count": 141,
   "metadata": {},
   "outputs": [],
   "source": [
    "from pyspark.ml.evaluation import BinaryClassificationEvaluator,MulticlassClassificationEvaluator"
   ]
  },
  {
   "cell_type": "code",
   "execution_count": 202,
   "metadata": {},
   "outputs": [
    {
     "name": "stdout",
     "output_type": "stream",
     "text": [
      "AUC: 0.986691\n"
     ]
    }
   ],
   "source": [
    "binary_evaluator = BinaryClassificationEvaluator(labelCol='label', metricName='areaUnderROC')\n",
    "print('AUC: %f' % binary_evaluator.evaluate(test_predictions))"
   ]
  },
  {
   "cell_type": "code",
   "execution_count": 203,
   "metadata": {},
   "outputs": [
    {
     "name": "stdout",
     "output_type": "stream",
     "text": [
      "ACC: 0.863102\n"
     ]
    }
   ],
   "source": [
    "# Select (prediction, true label) and compute test error\n",
    "acc_evaluator = MulticlassClassificationEvaluator(\n",
    "    labelCol=\"label\", \n",
    "    predictionCol=\"prediction\", \n",
    "    metricName=\"accuracy\")\n",
    "print(\"ACC: %f\" % acc_evaluator.evaluate(test_predictions))"
   ]
  },
  {
   "cell_type": "markdown",
   "metadata": {},
   "source": [
    "**Naive Bayes**\n",
    "- tdidf & length: acc 95.54%\n",
    "- tdidf & length & perc_caps & perc % perc_nums: acc 95.77%\n",
    "\n",
    "**Logistic Regression (reg=0)**\n",
    "- tdidf & length: acc 95.79% auc 97% \n",
    "- tdidf & length & perc_caps & perc % perc_nums: acc 96.97% auc 98%\n",
    "\n",
    "**Logistic Regression (reg=0.1)**\n",
    "- tdidf & length: acc 96.64% auc 99% \n",
    "- tdidf & length & perc_caps & perc % perc_nums: acc 97.79% auc 99%\n",
    "\n",
    "**Logistic Regression (reg=0.01)**\n",
    "- tdidf & length: acc 97.01% auc 99% \n",
    "- tdidf & length & perc_caps & perc % perc_nums: acc 97.82% auc 99%\n",
    "\n",
    "**Random Forest (100 trees)**\n",
    "- tdidf & length: acc 86.31% auc 98% \n",
    "- tdidf & length & perc_caps & perc % perc_nums: acc 86.78% auc 99%"
   ]
  },
  {
   "cell_type": "code",
   "execution_count": null,
   "metadata": {},
   "outputs": [],
   "source": []
  }
 ],
 "metadata": {
  "anaconda-cloud": {},
  "kernelspec": {
   "display_name": "Python 3",
   "language": "python",
   "name": "python3"
  },
  "language_info": {
   "codemirror_mode": {
    "name": "ipython",
    "version": 3
   },
   "file_extension": ".py",
   "mimetype": "text/x-python",
   "name": "python",
   "nbconvert_exporter": "python",
   "pygments_lexer": "ipython3",
   "version": "3.5.2"
  }
 },
 "nbformat": 4,
 "nbformat_minor": 1
}
